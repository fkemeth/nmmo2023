{
  "nbformat": 4,
  "nbformat_minor": 0,
  "metadata": {
    "colab": {
      "provenance": [],
      "toc_visible": true,
      "machine_shape": "hm",
      "gpuType": "T4",
      "include_colab_link": true
    },
    "kernelspec": {
      "name": "python3",
      "display_name": "Python 3"
    },
    "language_info": {
      "name": "python"
    },
    "accelerator": "GPU"
  },
  "cells": [
    {
      "cell_type": "markdown",
      "metadata": {
        "id": "view-in-github",
        "colab_type": "text"
      },
      "source": [
        "<a href=\"https://colab.research.google.com/github/fkemeth/nmmo2023/blob/main/nmmo_colab_starter.ipynb\" target=\"_parent\"><img src=\"https://colab.research.google.com/assets/colab-badge.svg\" alt=\"Open In Colab\"/></a>"
      ]
    },
    {
      "cell_type": "markdown",
      "source": [
        "# Set up your instance - gpu and google drive\n"
      ],
      "metadata": {
        "id": "Y-Jbqff4uPVf"
      }
    },
    {
      "cell_type": "code",
      "source": [
        "# Check if (NVIDIA) GPU is available\n",
        "import torch\n",
        "assert torch.cuda.is_available, \"CUDA gpu not available\""
      ],
      "metadata": {
        "id": "rKks53q5xKAz"
      },
      "execution_count": 1,
      "outputs": []
    },
    {
      "cell_type": "code",
      "source": [
        "# Set up the work directory\n",
        "import os\n",
        "assert os.path.exists(\"/content/drive/MyDrive\"), \"Google Drive not mounted\"\n",
        "\n",
        "work_dir = \"/content/drive/MyDrive/nmmo/\""
      ],
      "metadata": {
        "id": "nIzcRwbhkTkk",
        "outputId": "d7b120a9-0bdc-4bbd-e389-b9fd0f4280b8",
        "colab": {
          "base_uri": "https://localhost:8080/",
          "height": 247
        }
      },
      "execution_count": 2,
      "outputs": [
        {
          "output_type": "error",
          "ename": "AssertionError",
          "evalue": "ignored",
          "traceback": [
            "\u001b[0;31m---------------------------------------------------------------------------\u001b[0m",
            "\u001b[0;31mAssertionError\u001b[0m                            Traceback (most recent call last)",
            "\u001b[0;32m<ipython-input-2-70f965e20549>\u001b[0m in \u001b[0;36m<cell line: 3>\u001b[0;34m()\u001b[0m\n\u001b[1;32m      1\u001b[0m \u001b[0;31m# Set up the work directory\u001b[0m\u001b[0;34m\u001b[0m\u001b[0;34m\u001b[0m\u001b[0m\n\u001b[1;32m      2\u001b[0m \u001b[0;32mimport\u001b[0m \u001b[0mos\u001b[0m\u001b[0;34m\u001b[0m\u001b[0;34m\u001b[0m\u001b[0m\n\u001b[0;32m----> 3\u001b[0;31m \u001b[0;32massert\u001b[0m \u001b[0mos\u001b[0m\u001b[0;34m.\u001b[0m\u001b[0mpath\u001b[0m\u001b[0;34m.\u001b[0m\u001b[0mexists\u001b[0m\u001b[0;34m(\u001b[0m\u001b[0;34m\"/content/drive/MyDrive\"\u001b[0m\u001b[0;34m)\u001b[0m\u001b[0;34m,\u001b[0m \u001b[0;34m\"Google Drive not mounted\"\u001b[0m\u001b[0;34m\u001b[0m\u001b[0;34m\u001b[0m\u001b[0m\n\u001b[0m\u001b[1;32m      4\u001b[0m \u001b[0;34m\u001b[0m\u001b[0m\n\u001b[1;32m      5\u001b[0m \u001b[0mwork_dir\u001b[0m \u001b[0;34m=\u001b[0m \u001b[0;34m\"/content/drive/MyDrive/nmmo/\"\u001b[0m\u001b[0;34m\u001b[0m\u001b[0;34m\u001b[0m\u001b[0m\n",
            "\u001b[0;31mAssertionError\u001b[0m: Google Drive not mounted"
          ]
        }
      ]
    },
    {
      "cell_type": "markdown",
      "source": [
        "# Train your agent"
      ],
      "metadata": {
        "id": "-ZoH26UuuXLN"
      }
    },
    {
      "cell_type": "markdown",
      "source": [
        "## Install nmmo env and pufferlib"
      ],
      "metadata": {
        "id": "XxFaQLDGux7G"
      }
    },
    {
      "cell_type": "code",
      "source": [
        "# Install nmmo env and pufferlib\n",
        "!pip install nmmo pufferlib > /dev/null\n",
        "!pip show nmmo  # should be 2.0.3\n",
        "!pip show pufferlib # should be 0.4.3"
      ],
      "metadata": {
        "id": "yWbl9TD4bVTv",
        "colab": {
          "base_uri": "https://localhost:8080/"
        },
        "outputId": "4edabb58-1750-40d3-e9c9-7c0d6cba13d4"
      },
      "execution_count": null,
      "outputs": [
        {
          "output_type": "stream",
          "name": "stdout",
          "text": [
            "\u001b[31mERROR: pip's dependency resolver does not currently take into account all the packages that are installed. This behaviour is the source of the following dependency conflicts.\n",
            "lida 0.0.10 requires fastapi, which is not installed.\n",
            "lida 0.0.10 requires kaleido, which is not installed.\n",
            "lida 0.0.10 requires python-multipart, which is not installed.\n",
            "lida 0.0.10 requires uvicorn, which is not installed.\n",
            "tensorflow 2.14.0 requires numpy>=1.23.5, but you have numpy 1.23.3 which is incompatible.\u001b[0m\u001b[31m\n",
            "\u001b[0mName: nmmo\n",
            "Version: 2.0.3\n",
            "Summary: Neural MMO is a platform for multiagent intelligence research inspired by Massively Multiplayer Online (MMO) role-playing games. Documentation hosted at neuralmmo.github.io.\n",
            "Home-page: https://github.com/neuralmmo/environment\n",
            "Author: Joseph Suarez\n",
            "Author-email: jsuarez@mit.edu\n",
            "License: MIT\n",
            "Location: /usr/local/lib/python3.10/dist-packages\n",
            "Requires: autobahn, dill, gym, imageio, numpy, ordered-set, pettingzoo, psutil, py, pylint, pytest, pytest-benchmark, scipy, tqdm, Twisted, vec-noise\n",
            "Required-by: \n",
            "Name: pufferlib\n",
            "Version: 0.4.3\n",
            "Summary: PufferAI LibraryPufferAI's library of RL tools and utilities\n",
            "Home-page: https://github.com/PufferAI/PufferLib\n",
            "Author: Joseph Suarez\n",
            "Author-email: jsuarez@mit.edu\n",
            "License: MIT\n",
            "Location: /usr/local/lib/python3.10/dist-packages\n",
            "Requires: cython, filelock, gym, numpy, opencv-python, openskill, pettingzoo\n",
            "Required-by: \n"
          ]
        }
      ]
    },
    {
      "cell_type": "markdown",
      "source": [
        "## Install the baselines"
      ],
      "metadata": {
        "id": "jYxzsDtOu1Tm"
      }
    },
    {
      "cell_type": "code",
      "source": [
        "# Create the work directory, download the baselines code\n",
        "%mkdir $work_dir\n",
        "%cd $work_dir\n",
        "!git clone https://github.com/carperai/nmmo-baselines baselines --depth=1"
      ],
      "metadata": {
        "id": "LopjhpbNhqai",
        "colab": {
          "base_uri": "https://localhost:8080/"
        },
        "outputId": "3ba64faf-4e80-4559-cf14-0b2aeded26de"
      },
      "execution_count": null,
      "outputs": [
        {
          "output_type": "stream",
          "name": "stdout",
          "text": [
            "mkdir: cannot create directory ‘/content/drive/MyDrive/nmmo/’: File exists\n",
            "/content/drive/MyDrive/nmmo\n",
            "Cloning into 'baselines'...\n",
            "remote: Enumerating objects: 57, done.\u001b[K\n",
            "remote: Counting objects: 100% (57/57), done.\u001b[K\n",
            "remote: Compressing objects: 100% (50/50), done.\u001b[K\n",
            "remote: Total 57 (delta 2), reused 32 (delta 2), pack-reused 0\u001b[K\n",
            "Receiving objects: 100% (57/57), 23.54 MiB | 18.83 MiB/s, done.\n",
            "Resolving deltas: 100% (2/2), done.\n"
          ]
        }
      ]
    },
    {
      "cell_type": "code",
      "source": [
        "# Install libs to run the baselines\n",
        "%cd $work_dir\n",
        "%cd baselines\n",
        "\n",
        "# Create a requirements_colab.txt\n",
        "with open(work_dir+'baselines/requirements_colab.txt', \"w\") as f:\n",
        "  f.write(\"\"\"\n",
        "accelerate==0.21.0\n",
        "bitsandbytes==0.41.1\n",
        "dash==2.11.1\n",
        "openelm\n",
        "pandas\n",
        "plotly==5.15.0\n",
        "psutil==5.9.3\n",
        "scikit-learn==1.3.0\n",
        "tensorboard==2.11.2\n",
        "tiktoken==0.4.0\n",
        "torch\n",
        "transformers==4.31.0\n",
        "wandb==0.13.7\n",
        "  \"\"\")\n",
        "\n",
        "!pip install -r requirements_colab.txt > /dev/null"
      ],
      "metadata": {
        "id": "2InwlR0jbwfh",
        "colab": {
          "base_uri": "https://localhost:8080/"
        },
        "outputId": "f19def51-b87c-4f2e-859e-05a0a5bc08a0"
      },
      "execution_count": null,
      "outputs": [
        {
          "output_type": "stream",
          "name": "stdout",
          "text": [
            "/content/drive/MyDrive/nmmo\n",
            "/content/drive/MyDrive/nmmo/baselines\n",
            "\u001b[31mERROR: pip's dependency resolver does not currently take into account all the packages that are installed. This behaviour is the source of the following dependency conflicts.\n",
            "llmx 0.0.15a0 requires cohere, which is not installed.\n",
            "tensorflow 2.14.0 requires numpy>=1.23.5, but you have numpy 1.23.3 which is incompatible.\n",
            "tensorflow 2.14.0 requires tensorboard<2.15,>=2.14, but you have tensorboard 2.11.2 which is incompatible.\u001b[0m\u001b[31m\n",
            "\u001b[0m"
          ]
        }
      ]
    },
    {
      "cell_type": "markdown",
      "source": [
        "## Run `python train.py`"
      ],
      "metadata": {
        "id": "s7zH4Jxnu4yd"
      }
    },
    {
      "cell_type": "code",
      "source": [
        "# Just to check if the training flow works. The checkpoints are saved under nmmo/runs\n",
        "%cd $work_dir\n",
        "%cd baselines\n",
        "\n",
        "ckpt_dir = work_dir + \"runs\"\n",
        "\n",
        "!python train.py --runs-dir $ckpt_dir --local-mode true --train-num-steps=5_000"
      ],
      "metadata": {
        "id": "V-hGfR4Vbzf3",
        "colab": {
          "base_uri": "https://localhost:8080/"
        },
        "outputId": "0fb17147-6f56-419c-a42c-82b4a8878c6d"
      },
      "execution_count": null,
      "outputs": [
        {
          "output_type": "stream",
          "name": "stdout",
          "text": [
            "/content/drive/MyDrive/nmmo\n",
            "/content/drive/MyDrive/nmmo/baselines\n",
            "INFO:root:Training run: nmmo_20231104_030510 (/content/drive/MyDrive/nmmo/runs/nmmo_20231104_030510)\n",
            "INFO:root:Training args: Namespace(attend_task='none', attentional_decode=True, bptt_horizon=8, checkpoint_interval=30, clip_coef=0.1, death_fog_tick=None, device='cuda', early_stop_agent_num=8, encode_task=True, eval_batch_size=32768, eval_mode=False, eval_num_policies=2, eval_num_rounds=1, eval_num_steps=1000000, explore_bonus_weight=0.01, extra_encoders=True, heal_bonus_weight=0.03, hidden_size=256, input_size=256, learner_weight=1.0, local_mode=True, map_size=128, maps_path='maps/train/', max_episode_length=1024, max_opponent_policies=0, meander_bonus_weight=0.02, num_agents=128, num_buffers=1, num_cores=None, num_envs=1, num_lstm_layers=0, num_maps=128, num_npcs=256, policy_store_dir=None, ppo_learning_rate=0.00015, ppo_training_batch_size=128, ppo_update_epochs=3, resilient_population=0.2, rollout_batch_size=1024, run_name='nmmo_20231104_030510', runs_dir='/content/drive/MyDrive/nmmo/runs', seed=1, spawn_immunity=20, sqrt_achievement_rewards=False, task_size=4096, tasks_path='reinforcement_learning/curriculum_with_embedding.pkl', track='rl', train_num_steps=5000, use_serial_vecenv=True, wandb_entity=None, wandb_project=None)\n",
            "INFO:root:Using policy store from /content/drive/MyDrive/nmmo/runs/nmmo_20231104_030510/policy_store\n",
            "INFO:root:Generating 128 maps\n",
            "Allocated 92.95 MB to environments. Only accurate for Serial backend.\n",
            "PolicyPool sample_weights: [128]\n",
            "Allocated to storage - Pytorch: 0.00 GB, System: 0.11 GB\n",
            "INFO:root:PolicyPool: Updated policies: dict_keys(['learner'])\n",
            "Allocated during evaluation - Pytorch: 0.01 GB, System: 1.53 GB\n",
            "Epoch: 0 - 1K steps - 0:01:03 Elapsed\n",
            "\tSteps Per Second: Env=1258, Inference=154\n",
            "\tTrain=476\n",
            "\n",
            "Allocated during training - Pytorch: 0.07 GB, System: 0.23 GB\n",
            "INFO:root:Saving policy to /content/drive/MyDrive/nmmo/runs/nmmo_20231104_030510/policy_store/nmmo_20231104_030510.000001\n",
            "INFO:root:PolicyPool: Updated policies: dict_keys(['learner'])\n",
            "Allocated during evaluation - Pytorch: 0.00 GB, System: 0.00 GB\n",
            "Epoch: 1 - 2K steps - 0:01:07 Elapsed\n",
            "\tSteps Per Second: Env=1064, Inference=5501\n",
            "\tTrain=796\n",
            "\n",
            "Allocated during training - Pytorch: 0.01 GB, System: 0.00 GB\n",
            "INFO:root:PolicyPool: Updated policies: dict_keys(['learner'])\n",
            "Allocated during evaluation - Pytorch: 0.00 GB, System: 0.00 GB\n",
            "Epoch: 2 - 3K steps - 0:01:10 Elapsed\n",
            "\tSteps Per Second: Env=800, Inference=5406\n",
            "\tTrain=779\n",
            "\n",
            "Allocated during training - Pytorch: 0.01 GB, System: 0.00 GB\n",
            "INFO:root:PolicyPool: Updated policies: dict_keys(['learner'])\n",
            "Allocated during evaluation - Pytorch: 0.00 GB, System: 0.00 GB\n",
            "Epoch: 3 - 4K steps - 0:01:15 Elapsed\n",
            "\tSteps Per Second: Env=588, Inference=4874\n",
            "\tTrain=764\n",
            "\n",
            "Allocated during training - Pytorch: 0.01 GB, System: 0.00 GB\n",
            "INFO:root:Saving policy to /content/drive/MyDrive/nmmo/runs/nmmo_20231104_030510/policy_store/nmmo_20231104_030510.000004\n"
          ]
        }
      ]
    },
    {
      "cell_type": "markdown",
      "source": [
        "# Submit your checkpoint\n",
        "\n",
        "See https://gitlab.aicrowd.com/Mudou/start-kit\n",
        "\n",
        "* Sign up for AICrowd and click Participate on the [competition page](https://www.aicrowd.com/challenges/neurips-2023-the-neural-mmo-challenge).\n",
        "* Generate your SSH key and paste it to https://gitlab.aicrowd.com/-/profile/keys\n",
        "* Clone the stark-kit repository: `git@gitlab.aicrowd.com:Mudou/start-kit.git`. HTTP will not work unless you have 2FA configured.\n",
        "* Install the requirements with pip install -r requirements.txt"
      ],
      "metadata": {
        "id": "la4Nie6k24gb"
      }
    },
    {
      "cell_type": "markdown",
      "source": [
        "## Set up your SSH connection"
      ],
      "metadata": {
        "id": "Dg9hom5Iu9g0"
      }
    },
    {
      "cell_type": "code",
      "source": [
        "# Generating the ssh key with your aicrowd email\n",
        "# WARNING: Having your ssh key way is not secure, so you should limit using this key for others\n",
        "\n",
        "my_email = \"choe.kyoung@gmail.com\"  # YOUR AICROWD EMAIL\n",
        "\n",
        "# See the top for the work_dir, which should be in your google drive\n",
        "ssh_dir = work_dir + \"ssh_key/\"\n",
        "key_file = ssh_dir + \"id_rsa\"\n",
        "\n",
        "%cd $work_dir\n",
        "!mkdir $ssh_dir\n",
        "!ssh-keygen -t rsa -b 4096 -C $my_email -f $key_file"
      ],
      "metadata": {
        "id": "d0yGHV33ladC",
        "colab": {
          "base_uri": "https://localhost:8080/"
        },
        "outputId": "a837f283-3e8e-479f-f487-fb00c3509fc2"
      },
      "execution_count": null,
      "outputs": [
        {
          "output_type": "stream",
          "name": "stdout",
          "text": [
            "/content/drive/MyDrive/nmmo\n",
            "mkdir: cannot create directory ‘/content/drive/MyDrive/nmmo/ssh_key/’: File exists\n",
            "Generating public/private rsa key pair.\n",
            "/content/drive/MyDrive/nmmo/ssh_key/id_rsa already exists.\n",
            "Overwrite (y/n)? n\n"
          ]
        }
      ]
    },
    {
      "cell_type": "code",
      "source": [
        "# Copy the below text that starts with ssh-rsa to https://gitlab.aicrowd.com/-/profile/keys\n",
        "ssh_dir = work_dir + \"ssh_key/\"\n",
        "key_file = ssh_dir + \"id_rsa\"\n",
        "\n",
        "!cat {key_file}.pub"
      ],
      "metadata": {
        "colab": {
          "base_uri": "https://localhost:8080/"
        },
        "id": "769I0sFr4raR",
        "outputId": "0012d633-f3f3-4c2c-f21d-50f2d681c099"
      },
      "execution_count": null,
      "outputs": [
        {
          "output_type": "stream",
          "name": "stdout",
          "text": [
            "ssh-rsa AAAAB3NzaC1yc2EAAAADAQABAAACAQDFK3GU203O48HvtFuRYpd4AW4+dszemCWfqbjRP+qiEu9vjpGbj/fHI/sa19+4wYkTNzVEBNl3vYnGUdGXhCWTjs3n7+nBAKN5T7AtD6Hbi1r0V77FZP4FQw/aiP/zu1HDYbGl1xD8OTVJe4/kKsFkbrp90F4C7q/2GlUpUccyMV7PbGp09+eN5XqYl2RLjGi0MFUO6/7AHhcal1FEeXddak9/KfRKcOmqgJUddMFlOq4P8Pf0KKOVupsXN8EFHvkRsEKvmJj2+JgGAA94qttSLcVoRablbXJLomx8yx0OasNvfxR34ZEQyZTEIDqlU9xPUNZYcPUPjtuksJ6xh/KSxQd8mrjis6np2UI8S1r8CMZVcz0eY5BoRLEUa5wGpc8cAWmfMGA5vZtsEPrAlEC0JJP60cDxQhGTR+FOz3oQnOhOmKunRthObi1HFt0wio8MgykrCdXJGAFlEhks3ZYlMirDSsAcCqPi8TxQEWlRqyYviXGJ6Z6+uzve9k+P2zDerk/glozbjGG0btW5ag1M+hN2CIt9Z+yqWqrVKpTaR4WWmiSxsz0/u8FEfjomNwQhXIGr3Le1HmzdiRHx/C177arTcqkEaMAdPiygxQX4rLVzrf/1huOkowCcBmvOOw8lWFIzKDhS14Ap4ENUAiwIFw6qRNKZymtDT8GSYD243Q== choe.kyoung@gmail.com\n"
          ]
        }
      ]
    },
    {
      "cell_type": "code",
      "source": [
        "# Copy the key to default ssh key path - you should see id_rsa\n",
        "!mkdir /root/.ssh\n",
        "!cp {key_file}* /root/.ssh\n",
        "!ls /root/.ssh\n",
        "!chmod 700 /root/.ssh\n",
        "\n",
        "# Add the git server as a ssh known host\n",
        "!touch /root/.ssh/known_hosts\n",
        "!ssh-keyscan gitlab.aicrowd.com >> /root/.ssh/known_hosts\n",
        "!chmod 644 /root/.ssh/known_hosts\n",
        "\n",
        "# You should see something like: Welcome to GitLab, @kyoung_whan_choe!\n",
        "# to clone the repo and submit\n",
        "!ssh -T git@gitlab.aicrowd.com"
      ],
      "metadata": {
        "colab": {
          "base_uri": "https://localhost:8080/"
        },
        "id": "8kLLdwG69LYI",
        "outputId": "622cfc63-08b5-4b39-bfba-fccae4e561c2"
      },
      "execution_count": null,
      "outputs": [
        {
          "output_type": "stream",
          "name": "stdout",
          "text": [
            "mkdir: cannot create directory ‘/root/.ssh’: File exists\n",
            "id_rsa\tid_rsa.pub  known_hosts\n",
            "# gitlab.aicrowd.com:22 SSH-2.0-OpenSSH_7.6p1 Ubuntu-4ubuntu0.6\n",
            "# gitlab.aicrowd.com:22 SSH-2.0-OpenSSH_7.6p1 Ubuntu-4ubuntu0.6\n",
            "# gitlab.aicrowd.com:22 SSH-2.0-OpenSSH_7.6p1 Ubuntu-4ubuntu0.6\n",
            "# gitlab.aicrowd.com:22 SSH-2.0-OpenSSH_7.6p1 Ubuntu-4ubuntu0.6\n",
            "# gitlab.aicrowd.com:22 SSH-2.0-OpenSSH_7.6p1 Ubuntu-4ubuntu0.6\n",
            "Welcome to GitLab, @kyoung_whan_choe!\n"
          ]
        }
      ]
    },
    {
      "cell_type": "markdown",
      "source": [
        "## Prepare for submission with the start-kit"
      ],
      "metadata": {
        "id": "hTUVPqoMvCVU"
      }
    },
    {
      "cell_type": "code",
      "source": [
        "# Clone the submission kit repo\n",
        "%cd $work_dir\n",
        "!git clone git@gitlab.aicrowd.com:Mudou/start-kit.git"
      ],
      "metadata": {
        "colab": {
          "base_uri": "https://localhost:8080/"
        },
        "id": "7LVr1WK66REs",
        "outputId": "7a98cc41-925a-4077-e464-e0b666fe76ce"
      },
      "execution_count": null,
      "outputs": [
        {
          "output_type": "stream",
          "name": "stdout",
          "text": [
            "/content/drive/MyDrive/nmmo\n",
            "Cloning into 'start-kit'...\n",
            "remote: Enumerating objects: 179, done.\u001b[K\n",
            "remote: Counting objects: 100% (179/179), done.\u001b[K\n",
            "remote: Compressing objects: 100% (108/108), done.\u001b[K\n",
            "remote: Total 179 (delta 86), reused 147 (delta 63), pack-reused 0\u001b[K\n",
            "Receiving objects: 100% (179/179), 712.61 KiB | 4.95 MiB/s, done.\n",
            "Resolving deltas: 100% (86/86), done.\n",
            "Updating files: 100% (10/10), done.\n",
            "fatal: cannot exec '/content/drive/MyDrive/nmmo/start-kit/.git/hooks/post-checkout': Permission denied\n"
          ]
        }
      ]
    },
    {
      "cell_type": "code",
      "source": [
        "%cd $work_dir\n",
        "%cd start-kit/\n",
        "\n",
        "# Fix permissions\n",
        "!chmod +x .git/hooks/*\n",
        "\n",
        "# Install requirements\n",
        "!pip install -r requirements.txt > /dev/null"
      ],
      "metadata": {
        "colab": {
          "base_uri": "https://localhost:8080/"
        },
        "id": "gavEjmnabTO_",
        "outputId": "45369d15-7297-41a2-c1b0-a4ef7fdfd413"
      },
      "execution_count": null,
      "outputs": [
        {
          "output_type": "stream",
          "name": "stdout",
          "text": [
            "/content/drive/MyDrive/nmmo\n",
            "/content/drive/MyDrive/nmmo/start-kit\n"
          ]
        }
      ]
    },
    {
      "cell_type": "code",
      "source": [
        "# Edit the aicrowd.json -- INCLUDE YOUR NAME\n",
        "\n",
        "with open(work_dir+'start-kit/aicrowd.json', \"w\") as f:\n",
        "  f.write(\"\"\"\n",
        "{\n",
        "    \"challenge_id\" : \"neurips-2023-the-neural-mmo-challenge\",\n",
        "    \"authors\" : [\"kyoung_whan_choe\"],\n",
        "    \"description\" : \"Submitting baselines from the submission tutorial colab, take 17\"\n",
        "}\n",
        "  \"\"\")\n"
      ],
      "metadata": {
        "id": "wy06ckUjDrMv"
      },
      "execution_count": null,
      "outputs": []
    },
    {
      "cell_type": "markdown",
      "source": [
        "## Submit!"
      ],
      "metadata": {
        "id": "EuTKGIPRvO0E"
      }
    },
    {
      "cell_type": "code",
      "source": [
        "# Click the link to authenticate into aicrowd\n",
        "%cd $work_dir\n",
        "%cd start-kit/\n",
        "\n",
        "!python tool.py submit \"track1-submission-tutorial-17\""
      ],
      "metadata": {
        "colab": {
          "base_uri": "https://localhost:8080/"
        },
        "id": "8fW3vvOXFUDv",
        "outputId": "7b8f99ba-1a37-4fe6-935c-b3c3ad19fba5"
      },
      "execution_count": null,
      "outputs": [
        {
          "output_type": "stream",
          "name": "stdout",
          "text": [
            "/content/drive/MyDrive/nmmo\n",
            "/content/drive/MyDrive/nmmo/start-kit\n",
            "\u001b[1m\u001b[33mPlease make sure putting all your submission related (code, model, ...) in the my-submission folder.\u001b[0m\n",
            "\u001b[1m\u001b[32mCurrent repo size: 17MB\u001b[0m\n",
            "\u001b[1m\u001b[32maicrowd_setup done.\u001b[0m\n",
            "\u001b[1m\u001b[32mCurrent authors are: ['kyoung_whan_choe']\u001b[0m\n",
            "\u001b[1m\u001b[32mEnter the authors (seperated by comma(,)). If no change to the authors, just press ENTER.\u001b[0m\n",
            ": \n",
            "\u001b[1m\u001b[32mCurrent authors are: ['kyoung_whan_choe']\u001b[0m\n",
            "88fa2630752476524a8ad7a6dd4f90bfdb59fcfefc0e49e3a255c76994325b2f\n",
            "\u001b[0;32mMaking submission as \"kyoung_whan_choe\"\u001b[0m\n",
            "\u001b[0;36mChecking git remote settings...\u001b[0m\n",
            "\u001b[0;32mUsing gitlab.aicrowd.com:kyoung_whan_choe/start-kit as the submission repository\u001b[0m\n",
            "Updated git hooks.\n",
            "Git LFS initialized.\n",
            "234234\n",
            "[main 7736be5] Changes for submission-track1-submission-tutorial-17\n",
            " 1 file changed, 1 insertion(+), 1 deletion(-)\n",
            "Locking support detected on remote \"aicrowd\". Consider enabling it with:\n",
            "  $ git config lfs.https://gitlab.aicrowd.com/kyoung_whan_choe/start-kit.git/info/lfs.locksverify true\n",
            "Uploading LFS objects: 100% (2/2), 33 MB | 0 B/s, done.\n",
            "Enumerating objects: 151, done.\n",
            "Counting objects: 100% (151/151), done.\n",
            "Delta compression using up to 2 threads\n",
            "Compressing objects: 100% (80/80), done.\n",
            "Writing objects: 100% (151/151), 707.10 KiB | 32.14 MiB/s, done.\n",
            "Total 151 (delta 71), reused 142 (delta 66), pack-reused 0\n",
            "remote: Resolving deltas: 100% (71/71), done.\u001b[K\n",
            "remote: \n",
            "remote: \n",
            "remote: The private project kyoung_whan_choe/start-kit was successfully created.\u001b[K\n",
            "remote: \n",
            "remote: To configure the remote, run:\u001b[K\n",
            "remote:   git remote add origin git@gitlab.aicrowd.com:kyoung_whan_choe/start-kit.git\u001b[K\n",
            "remote: \n",
            "remote: To view the project, visit:\u001b[K\n",
            "remote:   http://gitlab.aicrowd.com/kyoung_whan_choe/start-kit\u001b[K\n",
            "remote: \n",
            "remote: \n",
            "remote: \n",
            "To gitlab.aicrowd.com:kyoung_whan_choe/start-kit.git\n",
            " * [new branch]      main -> main\n",
            "Locking support detected on remote \"aicrowd\". Consider enabling it with:\n",
            "  $ git config lfs.https://gitlab.aicrowd.com/kyoung_whan_choe/start-kit.git/info/lfs.locksverify true\n",
            "Enumerating objects: 1, done.\n",
            "Counting objects: 100% (1/1), done.\n",
            "Writing objects: 100% (1/1), 197 bytes | 32.00 KiB/s, done.\n",
            "Total 1 (delta 0), reused 0 (delta 0), pack-reused 0\n",
            "remote: \n",
            "remote:           #///(            )///#\u001b[K\n",
            "remote:          ////      ///      ////\u001b[K\n",
            "remote:         /////   //////////   ////\u001b[K\n",
            "remote:         /////////////////////////\u001b[K\n",
            "remote:      /// /////////////////////// ///\u001b[K\n",
            "remote:    ///////////////////////////////////\u001b[K\n",
            "remote:   /////////////////////////////////////\u001b[K\n",
            "remote:     )////////////////////////////////(\u001b[K\n",
            "remote:      /////                      /////\u001b[K\n",
            "remote:    (///////   ///       ///    //////)\u001b[K\n",
            "remote:   ///////////    ///////     //////////\u001b[K\n",
            "remote: (///////////////////////////////////////)\u001b[K\n",
            "remote:           /////           /////\u001b[K\n",
            "remote:             /////////////////\u001b[K\n",
            "remote:                ///////////\u001b[K\n",
            "remote: \n",
            "To gitlab.aicrowd.com:kyoung_whan_choe/start-kit.git\n",
            " * [new tag]         submission-track1-submission-tutorial-17 -> submission-track1-submission-tutorial-17\n",
            "\u001b[0;32mCheck the submission progress in your repository: https://gitlab.aicrowd.com/kyoung_whan_choe/start-kit/issues\u001b[0m\n"
          ]
        }
      ]
    },
    {
      "cell_type": "markdown",
      "source": [
        "## If submission hangs or got an git lfs error ..."
      ],
      "metadata": {
        "id": "_OgpMdjNvVLL"
      }
    },
    {
      "cell_type": "code",
      "source": [
        "# If submission hangs or you get a git lfs error, retry after running:\n",
        "\n",
        "!git lfs fetch --all origin\n",
        "!git lfs push --all aicrowd"
      ],
      "metadata": {
        "colab": {
          "base_uri": "https://localhost:8080/"
        },
        "id": "jcpR1mHgFcsw",
        "outputId": "fa93fae7-9ba9-448d-d2cd-1696a9b2fae3"
      },
      "execution_count": null,
      "outputs": [
        {
          "output_type": "stream",
          "name": "stdout",
          "text": [
            "fetch: 1 object(s) found\rfetch: 2 object(s) found\rfetch: 3 object(s) found\rfetch: 3 object(s) found, done.\n",
            "fetch: Fetching all references...\n",
            "Locking support detected on remote \"aicrowd\". Consider enabling it with:\n",
            "  $ git config lfs.https://gitlab.aicrowd.com/kyoung_whan_choe/start-kit.git/info/lfs.locksverify true\n",
            "Locking support detected on remote \"aicrowd\". Consider enabling it with:\n",
            "  $ git config lfs.https://gitlab.aicrowd.com/kyoung_whan_choe/start-kit.git/info/lfs.locksverify true\n",
            "Locking support detected on remote \"aicrowd\". Consider enabling it with:\n",
            "  $ git config lfs.https://gitlab.aicrowd.com/kyoung_whan_choe/start-kit.git/info/lfs.locksverify true\n",
            "Locking support detected on remote \"aicrowd\". Consider enabling it with:\n",
            "  $ git config lfs.https://gitlab.aicrowd.com/kyoung_whan_choe/start-kit.git/info/lfs.locksverify true\n",
            "Locking support detected on remote \"aicrowd\". Consider enabling it with:\n",
            "  $ git config lfs.https://gitlab.aicrowd.com/kyoung_whan_choe/start-kit.git/info/lfs.locksverify true\n",
            "Locking support detected on remote \"aicrowd\". Consider enabling it with:\n",
            "  $ git config lfs.https://gitlab.aicrowd.com/kyoung_whan_choe/start-kit.git/info/lfs.locksverify true\n",
            "Locking support detected on remote \"aicrowd\". Consider enabling it with:\n",
            "  $ git config lfs.https://gitlab.aicrowd.com/kyoung_whan_choe/start-kit.git/info/lfs.locksverify true\n",
            "Locking support detected on remote \"aicrowd\". Consider enabling it with:\n",
            "  $ git config lfs.https://gitlab.aicrowd.com/kyoung_whan_choe/start-kit.git/info/lfs.locksverify true\n",
            "Uploading LFS objects: 100% (2/2), 33 MB | 0 B/s, done.\n"
          ]
        }
      ]
    }
  ]
}
{
  "nbformat": 4,
  "nbformat_minor": 0,
  "metadata": {
    "colab": {
      "provenance": [],
      "toc_visible": true,
      "machine_shape": "hm",
      "gpuType": "T4",
      "include_colab_link": true
    },
    "kernelspec": {
      "name": "python3",
      "display_name": "Python 3"
    },
    "language_info": {
      "name": "python"
    },
    "accelerator": "GPU"
  },
  "cells": [
    {
      "cell_type": "markdown",
      "metadata": {
        "id": "view-in-github",
        "colab_type": "text"
      },
      "source": [
        "<a href=\"https://colab.research.google.com/github/fkemeth/nmmo2023/blob/main/nmmo_colab_starter.ipynb\" target=\"_parent\"><img src=\"https://colab.research.google.com/assets/colab-badge.svg\" alt=\"Open In Colab\"/></a>"
      ]
    },
    {
      "cell_type": "markdown",
      "source": [
        "# Set up your instance - gpu and google drive\n"
      ],
      "metadata": {
        "id": "Y-Jbqff4uPVf"
      }
    },
    {
      "cell_type": "code",
      "source": [
        "# Check if (NVIDIA) GPU is available\n",
        "import torch\n",
        "assert torch.cuda.is_available, \"CUDA gpu not available\""
      ],
      "metadata": {
        "id": "rKks53q5xKAz"
      },
      "execution_count": 3,
      "outputs": []
    },
    {
      "cell_type": "code",
      "source": [
        "from google.colab import drive\n",
        "drive.mount('/content/drive')"
      ],
      "metadata": {
        "id": "NLaZhG3GGiq4",
        "outputId": "ce72ae69-f751-4e8a-ad73-b2b4dd4fdfa6",
        "colab": {
          "base_uri": "https://localhost:8080/"
        }
      },
      "execution_count": 5,
      "outputs": [
        {
          "output_type": "stream",
          "name": "stdout",
          "text": [
            "Mounted at /content/drive\n"
          ]
        }
      ]
    },
    {
      "cell_type": "code",
      "source": [
        "# Set up the work directory\n",
        "import os\n",
        "assert os.path.exists(\"/content/drive/MyDrive\"), \"Google Drive not mounted\"\n",
        "\n",
        "work_dir = \"/content/drive/MyDrive/nmmo/\""
      ],
      "metadata": {
        "id": "nIzcRwbhkTkk"
      },
      "execution_count": 6,
      "outputs": []
    },
    {
      "cell_type": "markdown",
      "source": [
        "# Train your agent"
      ],
      "metadata": {
        "id": "-ZoH26UuuXLN"
      }
    },
    {
      "cell_type": "markdown",
      "source": [
        "## Install nmmo env and pufferlib"
      ],
      "metadata": {
        "id": "XxFaQLDGux7G"
      }
    },
    {
      "cell_type": "code",
      "source": [
        "# Install nmmo env and pufferlib\n",
        "!pip install nmmo pufferlib > /dev/null\n",
        "!pip show nmmo  # should be 2.0.3\n",
        "!pip show pufferlib # should be 0.4.3"
      ],
      "metadata": {
        "id": "yWbl9TD4bVTv",
        "colab": {
          "base_uri": "https://localhost:8080/"
        },
        "outputId": "bf16b756-2d10-46f0-d709-ff2e55e199e1"
      },
      "execution_count": 8,
      "outputs": [
        {
          "output_type": "stream",
          "name": "stdout",
          "text": [
            "\u001b[31mERROR: pip's dependency resolver does not currently take into account all the packages that are installed. This behaviour is the source of the following dependency conflicts.\n",
            "lida 0.0.10 requires fastapi, which is not installed.\n",
            "lida 0.0.10 requires kaleido, which is not installed.\n",
            "lida 0.0.10 requires python-multipart, which is not installed.\n",
            "lida 0.0.10 requires uvicorn, which is not installed.\n",
            "tensorflow 2.14.0 requires numpy>=1.23.5, but you have numpy 1.23.3 which is incompatible.\u001b[0m\u001b[31m\n",
            "\u001b[0mName: nmmo\n",
            "Version: 2.0.3\n",
            "Summary: Neural MMO is a platform for multiagent intelligence research inspired by Massively Multiplayer Online (MMO) role-playing games. Documentation hosted at neuralmmo.github.io.\n",
            "Home-page: https://github.com/neuralmmo/environment\n",
            "Author: Joseph Suarez\n",
            "Author-email: jsuarez@mit.edu\n",
            "License: MIT\n",
            "Location: /usr/local/lib/python3.10/dist-packages\n",
            "Requires: autobahn, dill, gym, imageio, numpy, ordered-set, pettingzoo, psutil, py, pylint, pytest, pytest-benchmark, scipy, tqdm, Twisted, vec-noise\n",
            "Required-by: \n",
            "Name: pufferlib\n",
            "Version: 0.4.3\n",
            "Summary: PufferAI LibraryPufferAI's library of RL tools and utilities\n",
            "Home-page: https://github.com/PufferAI/PufferLib\n",
            "Author: Joseph Suarez\n",
            "Author-email: jsuarez@mit.edu\n",
            "License: MIT\n",
            "Location: /usr/local/lib/python3.10/dist-packages\n",
            "Requires: cython, filelock, gym, numpy, opencv-python, openskill, pettingzoo\n",
            "Required-by: \n"
          ]
        }
      ]
    },
    {
      "cell_type": "markdown",
      "source": [
        "## Install the baselines"
      ],
      "metadata": {
        "id": "jYxzsDtOu1Tm"
      }
    },
    {
      "cell_type": "code",
      "source": [
        "# Create the work directory, download the baselines code\n",
        "%mkdir $work_dir\n",
        "%cd $work_dir\n",
        "!git clone https://github.com/carperai/nmmo-baselines baselines --depth=1"
      ],
      "metadata": {
        "id": "LopjhpbNhqai",
        "colab": {
          "base_uri": "https://localhost:8080/"
        },
        "outputId": "41251ea5-4c62-4363-fd4e-fa0b2ef54848"
      },
      "execution_count": 9,
      "outputs": [
        {
          "output_type": "stream",
          "name": "stdout",
          "text": [
            "/content/drive/MyDrive/nmmo\n",
            "Cloning into 'baselines'...\n",
            "remote: Enumerating objects: 57, done.\u001b[K\n",
            "remote: Counting objects: 100% (57/57), done.\u001b[K\n",
            "remote: Compressing objects: 100% (50/50), done.\u001b[K\n",
            "remote: Total 57 (delta 2), reused 31 (delta 2), pack-reused 0\u001b[K\n",
            "Receiving objects: 100% (57/57), 23.54 MiB | 16.52 MiB/s, done.\n",
            "Resolving deltas: 100% (2/2), done.\n"
          ]
        }
      ]
    },
    {
      "cell_type": "code",
      "source": [
        "# Install libs to run the baselines\n",
        "%cd $work_dir\n",
        "%cd baselines\n",
        "\n",
        "# Create a requirements_colab.txt\n",
        "with open(work_dir+'baselines/requirements_colab.txt', \"w\") as f:\n",
        "  f.write(\"\"\"\n",
        "accelerate==0.21.0\n",
        "bitsandbytes==0.41.1\n",
        "dash==2.11.1\n",
        "openelm\n",
        "pandas\n",
        "plotly==5.15.0\n",
        "psutil==5.9.3\n",
        "scikit-learn==1.3.0\n",
        "tensorboard==2.11.2\n",
        "tiktoken==0.4.0\n",
        "torch\n",
        "transformers==4.31.0\n",
        "wandb==0.13.7\n",
        "  \"\"\")\n",
        "\n",
        "!pip install -r requirements_colab.txt > /dev/null"
      ],
      "metadata": {
        "id": "2InwlR0jbwfh",
        "colab": {
          "base_uri": "https://localhost:8080/"
        },
        "outputId": "d7b263e4-b628-4840-8220-456dd0edd8ea"
      },
      "execution_count": 10,
      "outputs": [
        {
          "output_type": "stream",
          "name": "stdout",
          "text": [
            "/content/drive/MyDrive/nmmo\n",
            "/content/drive/MyDrive/nmmo/baselines\n",
            "\u001b[31mERROR: pip's dependency resolver does not currently take into account all the packages that are installed. This behaviour is the source of the following dependency conflicts.\n",
            "llmx 0.0.15a0 requires cohere, which is not installed.\n",
            "tensorflow 2.14.0 requires numpy>=1.23.5, but you have numpy 1.23.3 which is incompatible.\n",
            "tensorflow 2.14.0 requires tensorboard<2.15,>=2.14, but you have tensorboard 2.11.2 which is incompatible.\u001b[0m\u001b[31m\n",
            "\u001b[0m"
          ]
        }
      ]
    },
    {
      "cell_type": "markdown",
      "source": [
        "## Run `python train.py`"
      ],
      "metadata": {
        "id": "s7zH4Jxnu4yd"
      }
    },
    {
      "cell_type": "code",
      "source": [
        "# Just to check if the training flow works. The checkpoints are saved under nmmo/runs\n",
        "%cd $work_dir\n",
        "%cd baselines\n",
        "\n",
        "ckpt_dir = work_dir + \"runs\"\n",
        "\n",
        "!python train.py --runs-dir $ckpt_dir --local-mode true --train-num-steps=5_000"
      ],
      "metadata": {
        "id": "V-hGfR4Vbzf3",
        "colab": {
          "base_uri": "https://localhost:8080/"
        },
        "outputId": "fddd773c-8bed-4b76-d116-6ea8c6f78c92"
      },
      "execution_count": 11,
      "outputs": [
        {
          "output_type": "stream",
          "name": "stdout",
          "text": [
            "/content/drive/MyDrive/nmmo\n",
            "/content/drive/MyDrive/nmmo/baselines\n",
            "INFO:root:Training run: nmmo_20231112_152324 (/content/drive/MyDrive/nmmo/runs/nmmo_20231112_152324)\n",
            "INFO:root:Training args: Namespace(attend_task='none', attentional_decode=True, bptt_horizon=8, checkpoint_interval=30, clip_coef=0.1, death_fog_tick=None, device='cuda', early_stop_agent_num=8, encode_task=True, eval_batch_size=32768, eval_mode=False, eval_num_policies=2, eval_num_rounds=1, eval_num_steps=1000000, explore_bonus_weight=0.01, extra_encoders=True, heal_bonus_weight=0.03, hidden_size=256, input_size=256, learner_weight=1.0, local_mode=True, map_size=128, maps_path='maps/train/', max_episode_length=1024, max_opponent_policies=0, meander_bonus_weight=0.02, num_agents=128, num_buffers=1, num_cores=None, num_envs=1, num_lstm_layers=0, num_maps=128, num_npcs=256, policy_store_dir=None, ppo_learning_rate=0.00015, ppo_training_batch_size=128, ppo_update_epochs=3, resilient_population=0.2, rollout_batch_size=1024, run_name='nmmo_20231112_152324', runs_dir='/content/drive/MyDrive/nmmo/runs', seed=1, spawn_immunity=20, sqrt_achievement_rewards=False, task_size=4096, tasks_path='reinforcement_learning/curriculum_with_embedding.pkl', track='rl', train_num_steps=5000, use_serial_vecenv=True, wandb_entity=None, wandb_project=None)\n",
            "INFO:root:Using policy store from /content/drive/MyDrive/nmmo/runs/nmmo_20231112_152324/policy_store\n",
            "INFO:root:Generating 128 maps\n",
            "Allocated 92.89 MB to environments. Only accurate for Serial backend.\n",
            "PolicyPool sample_weights: [128]\n",
            "Allocated to storage - Pytorch: 0.00 GB, System: 0.11 GB\n",
            "INFO:root:PolicyPool: Updated policies: dict_keys(['learner'])\n",
            "Allocated during evaluation - Pytorch: 0.01 GB, System: 1.54 GB\n",
            "Epoch: 0 - 1K steps - 0:01:19 Elapsed\n",
            "\tSteps Per Second: Env=1213, Inference=162\n",
            "\tTrain=467\n",
            "\n",
            "Allocated during training - Pytorch: 0.07 GB, System: 0.24 GB\n",
            "INFO:root:Saving policy to /content/drive/MyDrive/nmmo/runs/nmmo_20231112_152324/policy_store/nmmo_20231112_152324.000001\n",
            "INFO:root:PolicyPool: Updated policies: dict_keys(['learner'])\n",
            "Allocated during evaluation - Pytorch: 0.00 GB, System: 0.00 GB\n",
            "Epoch: 1 - 2K steps - 0:01:23 Elapsed\n",
            "\tSteps Per Second: Env=785, Inference=4710\n",
            "\tTrain=653\n",
            "\n",
            "Allocated during training - Pytorch: 0.01 GB, System: 0.01 GB\n",
            "INFO:root:PolicyPool: Updated policies: dict_keys(['learner'])\n",
            "Allocated during evaluation - Pytorch: 0.00 GB, System: 0.03 GB\n",
            "Epoch: 2 - 3K steps - 0:01:27 Elapsed\n",
            "\tSteps Per Second: Env=572, Inference=4293\n",
            "\tTrain=579\n",
            "\n",
            "Allocated during training - Pytorch: 0.01 GB, System: 0.03 GB\n",
            "INFO:root:PolicyPool: Updated policies: dict_keys(['learner'])\n",
            "Allocated during evaluation - Pytorch: 0.00 GB, System: 0.01 GB\n",
            "Epoch: 3 - 4K steps - 0:01:34 Elapsed\n",
            "\tSteps Per Second: Env=336, Inference=3474\n",
            "\tTrain=608\n",
            "\n",
            "Allocated during training - Pytorch: 0.01 GB, System: 0.03 GB\n",
            "INFO:root:Saving policy to /content/drive/MyDrive/nmmo/runs/nmmo_20231112_152324/policy_store/nmmo_20231112_152324.000004\n"
          ]
        }
      ]
    },
    {
      "cell_type": "markdown",
      "source": [
        "# Submit your checkpoint\n",
        "\n",
        "See https://gitlab.aicrowd.com/Mudou/start-kit\n",
        "\n",
        "* Sign up for AICrowd and click Participate on the [competition page](https://www.aicrowd.com/challenges/neurips-2023-the-neural-mmo-challenge).\n",
        "* Generate your SSH key and paste it to https://gitlab.aicrowd.com/-/profile/keys\n",
        "* Clone the stark-kit repository: `git@gitlab.aicrowd.com:Mudou/start-kit.git`. HTTP will not work unless you have 2FA configured.\n",
        "* Install the requirements with pip install -r requirements.txt"
      ],
      "metadata": {
        "id": "la4Nie6k24gb"
      }
    },
    {
      "cell_type": "markdown",
      "source": [
        "## Set up your SSH connection"
      ],
      "metadata": {
        "id": "Dg9hom5Iu9g0"
      }
    },
    {
      "cell_type": "code",
      "source": [
        "# Generating the ssh key with your aicrowd email\n",
        "# WARNING: Having your ssh key way is not secure, so you should limit using this key for others\n",
        "\n",
        "my_email = \"felix@kemeth.de\"  # YOUR AICROWD EMAIL\n",
        "\n",
        "# See the top for the work_dir, which should be in your google drive\n",
        "ssh_dir = work_dir + \"ssh_key/\"\n",
        "key_file = ssh_dir + \"id_rsa\"\n",
        "\n",
        "%cd $work_dir\n",
        "!mkdir $ssh_dir\n",
        "!ssh-keygen -t rsa -b 4096 -C $my_email -f $key_file"
      ],
      "metadata": {
        "id": "d0yGHV33ladC",
        "colab": {
          "base_uri": "https://localhost:8080/"
        },
        "outputId": "aec4a55f-91c9-4c1d-ca29-c71a5d799ff0"
      },
      "execution_count": 12,
      "outputs": [
        {
          "output_type": "stream",
          "name": "stdout",
          "text": [
            "/content/drive/MyDrive/nmmo\n",
            "Generating public/private rsa key pair.\n",
            "Enter passphrase (empty for no passphrase): \n",
            "Enter same passphrase again: \n",
            "Your identification has been saved in /content/drive/MyDrive/nmmo/ssh_key/id_rsa\n",
            "Your public key has been saved in /content/drive/MyDrive/nmmo/ssh_key/id_rsa.pub\n",
            "The key fingerprint is:\n",
            "SHA256:SbxplnWnfe3nBWKRF61yoF3g6sp27jvIfFvNQAPRS4U felix@kemeth.de\n",
            "The key's randomart image is:\n",
            "+---[RSA 4096]----+\n",
            "|          oo.+o. |\n",
            "|       .   oE....|\n",
            "|        o .+B+o. |\n",
            "|       . *.++Bo .|\n",
            "|        S . =oo o|\n",
            "|       o . . = + |\n",
            "|       o .. . o +|\n",
            "|       .=.+.   .o|\n",
            "|       .o==+    .|\n",
            "+----[SHA256]-----+\n"
          ]
        }
      ]
    },
    {
      "cell_type": "code",
      "source": [
        "# Copy the below text that starts with ssh-rsa to https://gitlab.aicrowd.com/-/profile/keys\n",
        "ssh_dir = work_dir + \"ssh_key/\"\n",
        "key_file = ssh_dir + \"id_rsa\"\n",
        "\n",
        "!cat {key_file}.pub"
      ],
      "metadata": {
        "colab": {
          "base_uri": "https://localhost:8080/"
        },
        "id": "769I0sFr4raR",
        "outputId": "7f8b3fd2-3505-4567-fcd0-0826c57f3c0f"
      },
      "execution_count": 13,
      "outputs": [
        {
          "output_type": "stream",
          "name": "stdout",
          "text": [
            "ssh-rsa AAAAB3NzaC1yc2EAAAADAQABAAACAQDOMztuiNTelut4FIIzaMmdBrkC6Z8XacNucplrm1+vk1M5ZqR5m2W9/m+DGuu48KOQWS5IZc2zIFNHG7SPRZLh7wVz+GLBOJQkEmZX21dsgKjw2yyBaiE8Y9fURtAlffLduufBTM8AK5s2SOU9Y7AwmY+dII31dut8TKde3jQPCpVI0U9dOBw6Us24FgrgayKdLbVP/1HWCgCzDMbC4e+7gljF+GpOT3j3Oh7FXc7J3FH6OouEV2ZQgdUUSk6fsWQQAPjNy7zX+/2276ScO7mmE4gW2iNOGyGEgKFeZl+KV5WpyVulj3MCqInkZB+15b5NNGE8eNFNnzcEK2Q704/tFIHhXyBfduWJ0o4tHLPhW+7Kpy0Zic7lsEeilXuUA7gVqv52tq19frOiW7RJB1bd08SMrnAsk58DGb6GaVhX7sgET3d4EVrNt1PGQXpCzi6C17GZJqgLIjeceFIX4tdzV2LV7sXOJC/9RloT89ot7gf7brMxwiqSDekue51hslySe9XPiNdML/d7uJ6/umNBmadkrzIJTYfKuZ8J84K0l8tadTlnnlDKeAd01LTPGWknAFhr6jFw3ri6LtGwa2mffqy3jh9O9ofHQyX4GqLjdOKZW8o/y3jHUPjG8Z0u2cXpz4w9lZ71CI2s+6OJhcH/srPqTkyDn+kHolQbBNHEFw== felix@kemeth.de\n"
          ]
        }
      ]
    },
    {
      "cell_type": "code",
      "source": [
        "# Copy the key to default ssh key path - you should see id_rsa\n",
        "!mkdir /root/.ssh\n",
        "!cp {key_file}* /root/.ssh\n",
        "!ls /root/.ssh\n",
        "!chmod 700 /root/.ssh\n",
        "\n",
        "# Add the git server as a ssh known host\n",
        "!touch /root/.ssh/known_hosts\n",
        "!ssh-keyscan gitlab.aicrowd.com >> /root/.ssh/known_hosts\n",
        "!chmod 644 /root/.ssh/known_hosts\n",
        "\n",
        "# You should see something like: Welcome to GitLab, @kyoung_whan_choe!\n",
        "# to clone the repo and submit\n",
        "!ssh -T git@gitlab.aicrowd.com"
      ],
      "metadata": {
        "colab": {
          "base_uri": "https://localhost:8080/"
        },
        "id": "8kLLdwG69LYI",
        "outputId": "4e0c6123-01ff-45f9-ffc1-eb5ad3312496"
      },
      "execution_count": 14,
      "outputs": [
        {
          "output_type": "stream",
          "name": "stdout",
          "text": [
            "id_rsa\tid_rsa.pub\n",
            "# gitlab.aicrowd.com:22 SSH-2.0-OpenSSH_7.6p1 Ubuntu-4ubuntu0.6\n",
            "# gitlab.aicrowd.com:22 SSH-2.0-OpenSSH_7.6p1 Ubuntu-4ubuntu0.6\n",
            "# gitlab.aicrowd.com:22 SSH-2.0-OpenSSH_7.6p1 Ubuntu-4ubuntu0.6\n",
            "# gitlab.aicrowd.com:22 SSH-2.0-OpenSSH_7.6p1 Ubuntu-4ubuntu0.6\n",
            "# gitlab.aicrowd.com:22 SSH-2.0-OpenSSH_7.6p1 Ubuntu-4ubuntu0.6\n",
            "Welcome to GitLab, @fkemeth!\n"
          ]
        }
      ]
    },
    {
      "cell_type": "markdown",
      "source": [
        "## Prepare for submission with the start-kit"
      ],
      "metadata": {
        "id": "hTUVPqoMvCVU"
      }
    },
    {
      "cell_type": "code",
      "source": [
        "# Clone the submission kit repo\n",
        "%cd $work_dir\n",
        "!git clone git@gitlab.aicrowd.com:Mudou/start-kit.git"
      ],
      "metadata": {
        "colab": {
          "base_uri": "https://localhost:8080/"
        },
        "id": "7LVr1WK66REs",
        "outputId": "33939bc2-3809-4ed7-d208-ae4cda26b268"
      },
      "execution_count": 15,
      "outputs": [
        {
          "output_type": "stream",
          "name": "stdout",
          "text": [
            "/content/drive/MyDrive/nmmo\n",
            "Cloning into 'start-kit'...\n",
            "remote: Enumerating objects: 179, done.\u001b[K\n",
            "remote: Total 179 (delta 0), reused 0 (delta 0), pack-reused 179\u001b[K\n",
            "Receiving objects: 100% (179/179), 712.06 KiB | 1018.00 KiB/s, done.\n",
            "Resolving deltas: 100% (88/88), done.\n",
            "Updating files: 100% (10/10), done.\n",
            "fatal: cannot exec '/content/drive/MyDrive/nmmo/start-kit/.git/hooks/post-checkout': Permission denied\n"
          ]
        }
      ]
    },
    {
      "cell_type": "code",
      "source": [
        "%cd $work_dir\n",
        "%cd start-kit/\n",
        "\n",
        "# Fix permissions\n",
        "!chmod +x .git/hooks/*\n",
        "\n",
        "# Install requirements\n",
        "!pip install -r requirements.txt > /dev/null"
      ],
      "metadata": {
        "colab": {
          "base_uri": "https://localhost:8080/"
        },
        "id": "gavEjmnabTO_",
        "outputId": "839e02ae-9ccd-4e0a-9d3c-43836d50deb4"
      },
      "execution_count": 16,
      "outputs": [
        {
          "output_type": "stream",
          "name": "stdout",
          "text": [
            "/content/drive/MyDrive/nmmo\n",
            "/content/drive/MyDrive/nmmo/start-kit\n",
            "\u001b[31mERROR: pip's dependency resolver does not currently take into account all the packages that are installed. This behaviour is the source of the following dependency conflicts.\n",
            "lida 0.0.10 requires fastapi, which is not installed.\n",
            "lida 0.0.10 requires kaleido, which is not installed.\n",
            "lida 0.0.10 requires python-multipart, which is not installed.\n",
            "lida 0.0.10 requires uvicorn, which is not installed.\n",
            "flask 2.2.5 requires click>=8.0, but you have click 7.1.2 which is incompatible.\n",
            "dask 2023.8.1 requires click>=8.0, but you have click 7.1.2 which is incompatible.\n",
            "distributed 2023.8.1 requires click>=8.0, but you have click 7.1.2 which is incompatible.\n",
            "fiona 1.9.5 requires click~=8.0, but you have click 7.1.2 which is incompatible.\n",
            "flax 0.7.5 requires rich>=11.1, but you have rich 10.16.2 which is incompatible.\n",
            "ibis-framework 6.2.0 requires rich<14,>=12.4.4, but you have rich 10.16.2 which is incompatible.\n",
            "pip-tools 6.13.0 requires click>=8, but you have click 7.1.2 which is incompatible.\n",
            "tensorflow 2.14.0 requires numpy>=1.23.5, but you have numpy 1.23.3 which is incompatible.\n",
            "tensorflow 2.14.0 requires tensorboard<2.15,>=2.14, but you have tensorboard 2.11.2 which is incompatible.\u001b[0m\u001b[31m\n",
            "\u001b[0m"
          ]
        }
      ]
    },
    {
      "cell_type": "code",
      "source": [
        "# Edit the aicrowd.json -- INCLUDE YOUR NAME\n",
        "\n",
        "with open(work_dir+'start-kit/aicrowd.json', \"w\") as f:\n",
        "  f.write(\"\"\"\n",
        "{\n",
        "    \"challenge_id\" : \"neurips-2023-the-neural-mmo-challenge\",\n",
        "    \"authors\" : [\"fkemeth\"],\n",
        "    \"description\" : \"Submitting baselines from the submission tutorial colab, take 1\"\n",
        "}\n",
        "  \"\"\")\n"
      ],
      "metadata": {
        "id": "wy06ckUjDrMv"
      },
      "execution_count": 17,
      "outputs": []
    },
    {
      "cell_type": "markdown",
      "source": [
        "## Submit!"
      ],
      "metadata": {
        "id": "EuTKGIPRvO0E"
      }
    },
    {
      "cell_type": "code",
      "source": [
        "!aicrowd login"
      ],
      "metadata": {
        "id": "KYVlrZPbLbUk",
        "outputId": "65b2ca20-3335-4642-eca3-f38be52de669",
        "colab": {
          "base_uri": "https://localhost:8080/"
        }
      },
      "execution_count": 19,
      "outputs": [
        {
          "output_type": "stream",
          "name": "stdout",
          "text": [
            "Please login here: \u001b[34m\u001b[1m\u001b[4mhttps://api.aicrowd.com/auth/FQFrcxROiMj2AjUHrmL410yFCxX8kSJLPrH5xFj8240\u001b[0m\n",
            "/usr/bin/xdg-open: 882: www-browser: not found\n",
            "/usr/bin/xdg-open: 882: links2: not found\n",
            "/usr/bin/xdg-open: 882: elinks: not found\n",
            "/usr/bin/xdg-open: 882: links: not found\n",
            "/usr/bin/xdg-open: 882: lynx: not found\n",
            "/usr/bin/xdg-open: 882: w3m: not found\n",
            "xdg-open: no method available for opening 'https://api.aicrowd.com/auth/FQFrcxROiMj2AjUHrmL410yFCxX8kSJLPrH5xFj8240'\n",
            "\u001b[32mAPI Key valid\u001b[0m\n",
            "\u001b[32mGitlab access token valid\u001b[0m\n",
            "\u001b[32mSaved details successfully!\u001b[0m\n"
          ]
        }
      ]
    },
    {
      "cell_type": "code",
      "source": [
        "# Click the link to authenticate into aicrowd\n",
        "%cd $work_dir\n",
        "%cd start-kit/\n",
        "\n",
        "!python tool.py submit \"track1-submission-tutorial-2\""
      ],
      "metadata": {
        "colab": {
          "base_uri": "https://localhost:8080/"
        },
        "id": "8fW3vvOXFUDv",
        "outputId": "0bbad141-ab97-41e1-f5b7-152f52bca729"
      },
      "execution_count": 23,
      "outputs": [
        {
          "output_type": "stream",
          "name": "stdout",
          "text": [
            "/content/drive/MyDrive/nmmo\n",
            "/content/drive/MyDrive/nmmo/start-kit\n",
            "\u001b[1m\u001b[33mPlease make sure putting all your submission related (code, model, ...) in the my-submission folder.\u001b[0m\n",
            "\u001b[1m\u001b[32mCurrent repo size: 17MB\u001b[0m\n",
            "\u001b[1m\u001b[32maicrowd_setup done.\u001b[0m\n",
            "\u001b[1m\u001b[32mCurrent authors are: ['fkemeth']\u001b[0m\n",
            "\u001b[1m\u001b[32mEnter the authors (seperated by comma(,)). If no change to the authors, just press ENTER.\u001b[0m\n",
            ": \n",
            "\u001b[1m\u001b[32mCurrent authors are: ['fkemeth']\u001b[0m\n",
            "e9c7224210037c5fbb1358f919eed28aceac9b77362735b5f558b9d2fc9e864c\n",
            "\u001b[0;32mMaking submission as \"fkemeth\"\u001b[0m\n",
            "\u001b[0;36mChecking git remote settings...\u001b[0m\n",
            "\u001b[0;32mUsing gitlab.aicrowd.com:fkemeth/start-kit as the submission repository\u001b[0m\n",
            "Updated git hooks.\n",
            "Git LFS initialized.\n",
            "234234\n",
            "On branch main\n",
            "Your branch is ahead of 'origin/main' by 1 commit.\n",
            "  (use \"git push\" to publish your local commits)\n",
            "\n",
            "nothing to commit, working tree clean\n",
            "\n",
            "Locking support detected on remote \"aicrowd\". Consider enabling it with:\n",
            "  $ git config lfs.https://gitlab.aicrowd.com/fkemeth/start-kit.git/info/lfs.locksverify true\n",
            "Uploading LFS objects: 100% (2/2), 33 MB | 0 B/s, done.\n",
            "Enumerating objects: 148, done.\n",
            "Counting objects: 100% (148/148), done.\n",
            "Delta compression using up to 2 threads\n",
            "Compressing objects: 100% (75/75), done.\n",
            "Writing objects: 100% (148/148), 706.35 KiB | 47.09 MiB/s, done.\n",
            "Total 148 (delta 70), reused 142 (delta 68), pack-reused 0\n",
            "remote: Resolving deltas: 100% (70/70), done.\u001b[K\n",
            "remote: \n",
            "remote: \n",
            "remote: The private project fkemeth/start-kit was successfully created.\u001b[K\n",
            "remote: \n",
            "remote: To configure the remote, run:\u001b[K\n",
            "remote:   git remote add origin git@gitlab.aicrowd.com:fkemeth/start-kit.git\u001b[K\n",
            "remote: \n",
            "remote: To view the project, visit:\u001b[K\n",
            "remote:   http://gitlab.aicrowd.com/fkemeth/start-kit\u001b[K\n",
            "remote: \n",
            "remote: \n",
            "remote: \n",
            "To gitlab.aicrowd.com:fkemeth/start-kit.git\n",
            " * [new branch]      main -> main\n",
            "Locking support detected on remote \"aicrowd\". Consider enabling it with:\n",
            "  $ git config lfs.https://gitlab.aicrowd.com/fkemeth/start-kit.git/info/lfs.locksverify true\n",
            "Enumerating objects: 1, done.\n",
            "Counting objects: 100% (1/1), done.\n",
            "Writing objects: 100% (1/1), 191 bytes | 31.00 KiB/s, done.\n",
            "Total 1 (delta 0), reused 0 (delta 0), pack-reused 0\n",
            "remote: \n",
            "remote:           #///(            )///#\u001b[K\n",
            "remote:          ////      ///      ////\u001b[K\n",
            "remote:         /////   //////////   ////\u001b[K\n",
            "remote:         /////////////////////////\u001b[K\n",
            "remote:      /// /////////////////////// ///\u001b[K\n",
            "remote:    ///////////////////////////////////\u001b[K\n",
            "remote:   /////////////////////////////////////\u001b[K\n",
            "remote:     )////////////////////////////////(\u001b[K\n",
            "remote:      /////                      /////\u001b[K\n",
            "remote:    (///////   ///       ///    //////)\u001b[K\n",
            "remote:   ///////////    ///////     //////////\u001b[K\n",
            "remote: (///////////////////////////////////////)\u001b[K\n",
            "remote:           /////           /////\u001b[K\n",
            "remote:             /////////////////\u001b[K\n",
            "remote:                ///////////\u001b[K\n",
            "remote: \n",
            "To gitlab.aicrowd.com:fkemeth/start-kit.git\n",
            " * [new tag]         submission-track1-submission-tutorial-2 -> submission-track1-submission-tutorial-2\n",
            "\u001b[0;32mCheck the submission progress in your repository: https://gitlab.aicrowd.com/fkemeth/start-kit/issues\u001b[0m\n"
          ]
        }
      ]
    },
    {
      "cell_type": "markdown",
      "source": [
        "## If submission hangs or got an git lfs error ..."
      ],
      "metadata": {
        "id": "_OgpMdjNvVLL"
      }
    },
    {
      "cell_type": "code",
      "source": [
        "# If submission hangs or you get a git lfs error, retry after running:\n",
        "\n",
        "!git lfs fetch --all origin\n",
        "!git lfs push --all aicrowd"
      ],
      "metadata": {
        "colab": {
          "base_uri": "https://localhost:8080/"
        },
        "id": "jcpR1mHgFcsw",
        "outputId": "9054429b-3ab1-4977-ccbb-d81ffebf4b2b"
      },
      "execution_count": 21,
      "outputs": [
        {
          "output_type": "stream",
          "name": "stdout",
          "text": [
            "\n",
            "fetch: 1 object(s) found\rfetch: 2 object(s) found\rfetch: 3 object(s) found\rfetch: 3 object(s) found, done.\n",
            "fetch: Fetching all references...\n",
            "Locking support detected on remote \"aicrowd\". Consider enabling it with:\n",
            "  $ git config lfs.https://gitlab.aicrowd.com/fkemeth/start-kit.git/info/lfs.locksverify true\n",
            "Locking support detected on remote \"aicrowd\". Consider enabling it with:\n",
            "  $ git config lfs.https://gitlab.aicrowd.com/fkemeth/start-kit.git/info/lfs.locksverify true\n",
            "Locking support detected on remote \"aicrowd\". Consider enabling it with:\n",
            "  $ git config lfs.https://gitlab.aicrowd.com/fkemeth/start-kit.git/info/lfs.locksverify true\n",
            "Locking support detected on remote \"aicrowd\". Consider enabling it with:\n",
            "  $ git config lfs.https://gitlab.aicrowd.com/fkemeth/start-kit.git/info/lfs.locksverify true\n",
            "Locking support detected on remote \"aicrowd\". Consider enabling it with:\n",
            "  $ git config lfs.https://gitlab.aicrowd.com/fkemeth/start-kit.git/info/lfs.locksverify true\n",
            "Locking support detected on remote \"aicrowd\". Consider enabling it with:\n",
            "  $ git config lfs.https://gitlab.aicrowd.com/fkemeth/start-kit.git/info/lfs.locksverify true\n",
            "Locking support detected on remote \"aicrowd\". Consider enabling it with:\n",
            "  $ git config lfs.https://gitlab.aicrowd.com/fkemeth/start-kit.git/info/lfs.locksverify true\n",
            "Locking support detected on remote \"aicrowd\". Consider enabling it with:\n",
            "  $ git config lfs.https://gitlab.aicrowd.com/fkemeth/start-kit.git/info/lfs.locksverify true\n",
            "Uploading LFS objects: 100% (2/2), 33 MB | 9.1 MB/s, done.\n"
          ]
        }
      ]
    },
    {
      "cell_type": "code",
      "source": [],
      "metadata": {
        "id": "Q0aepGXkL1H1"
      },
      "execution_count": null,
      "outputs": []
    }
  ]
}